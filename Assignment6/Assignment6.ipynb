{
 "cells": [
  {
   "cell_type": "code",
   "execution_count": 2,
   "id": "2699086c",
   "metadata": {},
   "outputs": [
    {
     "name": "stdout",
     "output_type": "stream",
     "text": [
      "Simulated Inventory Levels: [35 42 40 35 25 25 15 40 35 35 15 42 40 25 25 25 25 35 35 25 35 25 25 25\n",
      " 35 40 25 35 35 15]\n",
      "Order Sizes: [65 58 60 65 75 75 85 60 65 65 85 58 60 75 75 75 75 65 65 75 65 75 75 75\n",
      " 65 60 75 65 65 85]\n",
      "Average Order Size (60 weeks): 69.53333333333333\n"
     ]
    }
   ],
   "source": [
    "import numpy as np\n",
    "\n",
    "inventory_levels = [15, 25, 35, 40, 42, 55]\n",
    "probabilities = [0.12, 0.25, 0.35, 0.20, 0.06, 0.02]\n",
    "\n",
    "np.random.seed(42)\n",
    "simulated_inventory = np.random.choice(inventory_levels, size=30, p=probabilities)\n",
    "\n",
    "order_sizes = 100 - simulated_inventory\n",
    "average_order_size = np.mean(order_sizes)\n",
    "\n",
    "print(\"Simulated Inventory Levels:\", simulated_inventory)\n",
    "print(\"Order Sizes:\", order_sizes)\n",
    "print(\"Average Order Size (60 weeks):\", average_order_size)\n"
   ]
  },
  {
   "cell_type": "code",
   "execution_count": 4,
   "id": "0732fef4",
   "metadata": {},
   "outputs": [
    {
     "name": "stdout",
     "output_type": "stream",
     "text": [
      "Total Units Ordered: 2086\n",
      "Product Cost: $ 8344\n",
      "Holding Cost: $ 914\n",
      "Ordering Cost: $ 1500\n",
      "Total Cost of Having the Product: $ 10758\n"
     ]
    }
   ],
   "source": [
    "total_units_ordered = np.sum(order_sizes)\n",
    "product_cost = total_units_ordered * 4\n",
    "\n",
    "holding_cost = np.sum(simulated_inventory) \n",
    "ordering_cost = 30 * 50\n",
    "total_cost = ordering_cost + product_cost + holding_cost\n",
    "\n",
    "print(\"Total Units Ordered:\", total_units_ordered)\n",
    "print(\"Product Cost: $\", product_cost)\n",
    "print(\"Holding Cost: $\", holding_cost)\n",
    "print(\"Ordering Cost: $\", ordering_cost)\n",
    "print(\"Total Cost of Having the Product: $\", total_cost)\n"
   ]
  },
  {
   "cell_type": "code",
   "execution_count": 6,
   "id": "6578019c",
   "metadata": {},
   "outputs": [
    {
     "name": "stdout",
     "output_type": "stream",
     "text": [
      "Average Waiting Time: 0.5746076077471803\n",
      "Server Utilization: 0.7808202258996555\n"
     ]
    }
   ],
   "source": [
    "import numpy as np\n",
    "\n",
    "np.random.seed(42)\n",
    "lmbda = 3\n",
    "mu = 4\n",
    "n_customers = 200\n",
    "\n",
    "inter_arrival_times = np.random.exponential(scale=1/lmbda, size=n_customers)\n",
    "service_times = np.random.exponential(scale=1/mu, size=n_customers)\n",
    "\n",
    "arrival_times = np.cumsum(inter_arrival_times)\n",
    "start_service_times = np.zeros(n_customers)\n",
    "finish_service_times = np.zeros(n_customers)\n",
    "waiting_times = np.zeros(n_customers)\n",
    "\n",
    "for i in range(n_customers):\n",
    "    if i == 0:\n",
    "        start_service_times[i] = arrival_times[i]\n",
    "    else:\n",
    "        start_service_times[i] = max(arrival_times[i], finish_service_times[i-1])\n",
    "    \n",
    "    finish_service_times[i] = start_service_times[i] + service_times[i]\n",
    "    waiting_times[i] = start_service_times[i] - arrival_times[i]\n",
    "\n",
    "total_service_time = np.sum(service_times)\n",
    "total_time = finish_service_times[-1]\n",
    "utilization = total_service_time / total_time\n",
    "\n",
    "average_waiting_time = np.mean(waiting_times)\n",
    "\n",
    "print(\"Average Waiting Time:\", average_waiting_time)\n",
    "print(\"Server Utilization:\", utilization)\n"
   ]
  },
  {
   "cell_type": "code",
   "execution_count": 7,
   "id": "68917066",
   "metadata": {},
   "outputs": [
    {
     "name": "stdout",
     "output_type": "stream",
     "text": [
      "Overloaded System:\n",
      "Average Waiting Time: 0.877461992947518\n",
      "Server Utilization: 0.912569178973085\n"
     ]
    }
   ],
   "source": [
    "lmbda = 8\n",
    "mu = 6\n",
    "\n",
    "inter_arrival_times = np.random.exponential(scale=1/lmbda, size=n_customers)\n",
    "service_times = np.random.exponential(scale=1/mu, size=n_customers)\n",
    "\n",
    "arrival_times = np.cumsum(inter_arrival_times)\n",
    "start_service_times = np.zeros(n_customers)\n",
    "finish_service_times = np.zeros(n_customers)\n",
    "waiting_times = np.zeros(n_customers)\n",
    "\n",
    "for i in range(n_customers):\n",
    "    if i == 0:\n",
    "        start_service_times[i] = arrival_times[i]\n",
    "    else:\n",
    "        start_service_times[i] = max(arrival_times[i], finish_service_times[i-1])\n",
    "    \n",
    "    finish_service_times[i] = start_service_times[i] + service_times[i]\n",
    "    waiting_times[i] = start_service_times[i] - arrival_times[i]\n",
    "\n",
    "total_service_time = np.sum(service_times)\n",
    "total_time = finish_service_times[-1]\n",
    "utilization = total_service_time / total_time\n",
    "average_waiting_time = np.mean(waiting_times)\n",
    "\n",
    "print(\"Overloaded System:\")\n",
    "print(\"Average Waiting Time:\", average_waiting_time)\n",
    "print(\"Server Utilization:\", utilization)\n"
   ]
  },
  {
   "cell_type": "code",
   "execution_count": 9,
   "id": "9e5bc2dc",
   "metadata": {},
   "outputs": [
    {
     "name": "stdout",
     "output_type": "stream",
     "text": [
      "Limited Queue:\n",
      "Rejected Customers: 49\n",
      "Average Waiting Time: 1.0706480879697213\n"
     ]
    }
   ],
   "source": [
    "queue_limit = 10\n",
    "queue = []\n",
    "rejected_customers = 0\n",
    "waiting_times = []\n",
    "\n",
    "for i in range(n_customers):\n",
    "    queue = [q for q in queue if q > arrival_times[i]]\n",
    "    \n",
    "    if len(queue) >= queue_limit:\n",
    "        rejected_customers += 1\n",
    "        continue\n",
    "        \n",
    "    if not queue:\n",
    "        start_time = arrival_times[i]\n",
    "    else:\n",
    "        start_time = queue[-1]\n",
    "    \n",
    "    service_time = np.random.exponential(scale=1/mu)\n",
    "    finish_time = start_time + service_time\n",
    "    queue.append(finish_time)\n",
    "    waiting_times.append(start_time - arrival_times[i])\n",
    "\n",
    "avg_wait = np.mean(waiting_times)\n",
    "print(\"Limited Queue:\")\n",
    "print(\"Rejected Customers:\", rejected_customers)\n",
    "print(\"Average Waiting Time:\", avg_wait)\n"
   ]
  },
  {
   "cell_type": "code",
   "execution_count": null,
   "id": "970a3563",
   "metadata": {},
   "outputs": [],
   "source": []
  }
 ],
 "metadata": {
  "kernelspec": {
   "display_name": "Python 3 (ipykernel)",
   "language": "python",
   "name": "python3"
  },
  "language_info": {
   "codemirror_mode": {
    "name": "ipython",
    "version": 3
   },
   "file_extension": ".py",
   "mimetype": "text/x-python",
   "name": "python",
   "nbconvert_exporter": "python",
   "pygments_lexer": "ipython3",
   "version": "3.11.5"
  }
 },
 "nbformat": 4,
 "nbformat_minor": 5
}
